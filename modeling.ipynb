{
 "cells": [
  {
   "cell_type": "markdown",
   "id": "cfb0ee4ac2782390",
   "metadata": {},
   "source": [
    "# Codificador Automático"
   ]
  },
  {
   "cell_type": "code",
   "execution_count": 3,
   "id": "e704a8c041bda757",
   "metadata": {},
   "outputs": [],
   "source": [
    "import os\n",
    "import numpy as np \n",
    "import pandas as pd \n",
    "import matplotlib.pyplot as plt\n",
    "import tensorflow as tf\n",
    "from tensorflow import keras"
   ]
  },
  {
   "cell_type": "code",
   "execution_count": 97,
   "id": "ea2833f063b79290",
   "metadata": {},
   "outputs": [],
   "source": [
    "def folder_to_sequence(folder_path: str, window_size: int) -> np.ndarray:\n",
    "    \"\"\"\n",
    "    Função usada para converter os dados .csv de uma pasta\n",
    "    para o formato aceito pelo autocodificador LSTM.\n",
    "\n",
    "    Parameters\n",
    "    ----------\n",
    "    folder_path: str\n",
    "        Caminho (pasta) em que os dados estão localizados.\n",
    "\n",
    "    window_size: int\n",
    "        Tamanho da janela de dados que o modelo receberá.\n",
    "\n",
    "    Returns\n",
    "    -------\n",
    "    np.ndarray\n",
    "        Array contendo as sequencias na forma de sequencias\n",
    "    \"\"\"\n",
    "\n",
    "    X = None\n",
    "    \n",
    "    for filename in os.listdir(\"data/\" + folder_path):\n",
    "        if filename.endswith(\".csv\"):\n",
    "            df_old = pd.read_csv(\"data/\"+ folder_path + \"/\" + filename)\n",
    "            df = calibrator.apply_calibration(df_old)\n",
    "            sequences = df_to_sequence(df.PT105, window_size)\n",
    "            if X is None:\n",
    "                X = sequences\n",
    "            else:\n",
    "                X = np.concatenate((X, sequences))\n",
    "    return X\n",
    "\n",
    "def df_to_sequence(data: pd.DataFrame, window_size: int) -> np.ndarray:\n",
    "    x = []\n",
    "    for i in range(len(data) - window_size):\n",
    "        row = [[r] for r in data[i:i+window_size]]  \n",
    "        x.append(row)\n",
    "        \n",
    "    return np.array(x)"
   ]
  },
  {
   "cell_type": "code",
   "execution_count": 52,
   "id": "c5ce4f09-8f92-4d97-b65f-34b0ca93176e",
   "metadata": {},
   "outputs": [],
   "source": [
    "class Calibrator:\n",
    "    \n",
    "    def __init__(self):\n",
    "        files = [\"PT105\"]\n",
    "        self.data: dict = {}\n",
    "        for filename in files:\n",
    "            df = pd.read_csv(f\"data/calibracao/{filename}.csv\", delimiter=\",\", decimal=\",\")\n",
    "            x, y = df.iloc[:, 0], df.iloc[:, 1]\n",
    "            self.a, self.b = np.polyfit(x, y, 1)\n",
    "            self.data[filename] = (self.a, self.b)\n",
    "            \n",
    "    def __str__(self) -> str:\n",
    "        return str(self.data)\n",
    "\n",
    "    def apply_calibration(self, df: pd.DataFrame) -> pd.DataFrame:\n",
    "        df[\"PT105\"] = self.a * df[\"cDAQ1Mod1/ai2\"] + self.b\n",
    "        return df"
   ]
  },
  {
   "cell_type": "code",
   "execution_count": 53,
   "id": "6ae4b236502d9a81",
   "metadata": {},
   "outputs": [],
   "source": [
    "# ler a pasta\n",
    "calibrator = Calibrator()"
   ]
  },
  {
   "cell_type": "code",
   "execution_count": 100,
   "id": "73fde582-c081-45c2-b17d-b453b01cd680",
   "metadata": {},
   "outputs": [
    {
     "name": "stdout",
     "output_type": "stream",
     "text": [
      "model shape:  (9070, 100, 1)\n"
     ]
    }
   ],
   "source": [
    "bigX = folder_to_sequence(\"VIDRO-B2\", 100)\n",
    "print(\"model shape: \", bigX.shape)"
   ]
  },
  {
   "cell_type": "code",
   "execution_count": null,
   "id": "aa74d589-f156-4605-b83b-cf4d50ada27b",
   "metadata": {},
   "outputs": [],
   "source": []
  }
 ],
 "metadata": {
  "kernelspec": {
   "display_name": "Python 3 (ipykernel)",
   "language": "python",
   "name": "python3"
  },
  "language_info": {
   "codemirror_mode": {
    "name": "ipython",
    "version": 3
   },
   "file_extension": ".py",
   "mimetype": "text/x-python",
   "name": "python",
   "nbconvert_exporter": "python",
   "pygments_lexer": "ipython3",
   "version": "3.12.6"
  }
 },
 "nbformat": 4,
 "nbformat_minor": 5
}
